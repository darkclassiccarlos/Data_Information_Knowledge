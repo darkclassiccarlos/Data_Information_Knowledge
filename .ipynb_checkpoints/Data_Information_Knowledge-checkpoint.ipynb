{
 "cells": [
  {
   "cell_type": "code",
   "execution_count": 4,
   "metadata": {},
   "outputs": [],
   "source": [
    "##Datos\n",
    "import matplotlib.pyplot as plt\n",
    "import numpy as np\n",
    "import pyrealtime as prt\n",
    "\n",
    "x = np.random.normal(size = 1000)"
   ]
  },
  {
   "cell_type": "code",
   "execution_count": 5,
   "metadata": {},
   "outputs": [
    {
     "name": "stderr",
     "output_type": "stream",
     "text": [
      "Exception in thread layer:\n",
      "Traceback (most recent call last):\n",
      "  File \"c:\\anaconda3\\lib\\site-packages\\pyrealtime\\serial_layer.py\", line 105, in initialize\n",
      "    import serial\n",
      "ModuleNotFoundError: No module named 'serial'\n",
      "\n",
      "During handling of the above exception, another exception occurred:\n",
      "\n",
      "Traceback (most recent call last):\n",
      "  File \"c:\\anaconda3\\lib\\threading.py\", line 917, in _bootstrap_inner\n",
      "    self.run()\n",
      "  File \"c:\\anaconda3\\lib\\threading.py\", line 865, in run\n",
      "    self._target(*self._args, **self._kwargs)\n",
      "  File \"c:\\anaconda3\\lib\\site-packages\\pyrealtime\\layer.py\", line 235, in run_thread\n",
      "    self.initialize()\n",
      "  File \"c:\\anaconda3\\lib\\site-packages\\pyrealtime\\serial_layer.py\", line 107, in initialize\n",
      "    raise ModuleNotFoundError(\"PySerial not found\")\n",
      "ModuleNotFoundError: PySerial not found\n",
      "\n"
     ]
    }
   ],
   "source": [
    "##Informacion\n",
    "serial_layer = prt.SerialReadLayer(device_name='COM2', baud_rate=9600)\n",
    "prt.TimePlotLayer(serial_layer, window_size=100, ylim=(0, 100))\n",
    "prt.LayerManager.session().run()"
   ]
  },
  {
   "cell_type": "code",
   "execution_count": 6,
   "metadata": {},
   "outputs": [
    {
     "ename": "SyntaxError",
     "evalue": "invalid syntax (<ipython-input-6-4efb5f89e2d0>, line 2)",
     "output_type": "error",
     "traceback": [
      "\u001b[1;36m  File \u001b[1;32m\"<ipython-input-6-4efb5f89e2d0>\"\u001b[1;36m, line \u001b[1;32m2\u001b[0m\n\u001b[1;33m    pip install pyserial\u001b[0m\n\u001b[1;37m              ^\u001b[0m\n\u001b[1;31mSyntaxError\u001b[0m\u001b[1;31m:\u001b[0m invalid syntax\n"
     ]
    }
   ],
   "source": [
    "##Conocimiento\n",
    "pip install pyserial"
   ]
  }
 ],
 "metadata": {
  "kernelspec": {
   "display_name": "Python 3",
   "language": "python",
   "name": "python3"
  },
  "language_info": {
   "codemirror_mode": {
    "name": "ipython",
    "version": 3
   },
   "file_extension": ".py",
   "mimetype": "text/x-python",
   "name": "python",
   "nbconvert_exporter": "python",
   "pygments_lexer": "ipython3",
   "version": "3.7.1"
  }
 },
 "nbformat": 4,
 "nbformat_minor": 2
}
