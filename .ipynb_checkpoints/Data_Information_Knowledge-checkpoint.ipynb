{
 "cells": [
  {
   "cell_type": "markdown",
   "metadata": {
    "slideshow": {
     "slide_type": "slide"
    }
   },
   "source": [
    "# Obtener datos de Twitter \n",
    "### Carlos Bautista\n",
    "\n",
    "### Explicación de datos, informacióm, conocimiento\n"
   ]
  },
  {
   "cell_type": "markdown",
   "metadata": {
    "slideshow": {
     "slide_type": "slide"
    }
   },
   "source": [
    "![Datos información conocimiento](C:\\Users\\cbautista\\OneDrive - 33633_120216_IFX_NETWORKS_USA\\Maestria\\Semestre_1_2020\\Informatica\\Repositorios\\Data_Information_Knowledge\\Data_Information_Knowledge\\'Data_Info_Know_Ins_Wisd.png')"
   ]
  },
  {
   "cell_type": "code",
   "execution_count": 48,
   "metadata": {
    "slideshow": {
     "slide_type": "skip"
    }
   },
   "outputs": [],
   "source": [
    "#librarys\n",
    "import matplotlib.pyplot as plt\n",
    "import tweepy, json\n",
    "import numpy as np\n",
    "import re\n",
    "import seaborn as sns\n",
    "from vaderSentiment.vaderSentiment import SentimentIntensityAnalyzer\n",
    "from googletrans import Translator\n",
    "translator = Translator()\n",
    "analyser = SentimentIntensityAnalyzer()"
   ]
  },
  {
   "cell_type": "code",
   "execution_count": 49,
   "metadata": {
    "slideshow": {
     "slide_type": "skip"
    }
   },
   "outputs": [],
   "source": [
    "#job function definitions\n",
    "#sentiment analysis\n",
    "def sentiment_analyzer_scores(text, engl=True):\n",
    "    if engl:\n",
    "        trans = text\n",
    "    else:\n",
    "        trans = translator.translate(text).text        \n",
    "    score = analyser.polarity_scores(trans)\n",
    "    lb = score['compound']\n",
    "    if lb>=0.05:\n",
    "        return 1\n",
    "    elif (lb>-0.05) and (lb < 0.5):\n",
    "        return 0 \n",
    "    else:\n",
    "        return -1\n",
    "#define tweet arrangement\n",
    "def list_tweets(user_id, count, prt=False):\n",
    "    tweets = api.user_timeline(\n",
    "        \"@\" + user_id, count=count, tweet_mode='extended')\n",
    "    tw = []\n",
    "    for t in tweets:\n",
    "        tw.append(t.full_text)\n",
    "        if prt:\n",
    "            print(t.full_text)\n",
    "            print()\n",
    "    return tw\n",
    "#cleantweets\n",
    "def remove_pattern(input_txt, pattern):\n",
    "    r = re.findall(pattern, input_txt)\n",
    "    for i in r:\n",
    "        input_txt = re.sub(i, '', input_txt)        \n",
    "    return input_txt\n",
    "#cleantwweets\n",
    "def clean_tweets(lst):\n",
    "    # remove twitter Return handles (RT @xxx:)\n",
    "    lst = np.vectorize(remove_pattern)(lst, \"RT @[\\w]*:\")\n",
    "    # remove twitter handles (@xxx)\n",
    "    lst = np.vectorize(remove_pattern)(lst, \"@[\\w]*\")\n",
    "    # remove URL links (httpxxx)\n",
    "    lst = np.vectorize(remove_pattern)(lst, \"https?://[A-Za-z0-9./]*\")\n",
    "    # remove special characters, numbers, punctuations (except for #)\n",
    "    lst = np.core.defchararray.replace(lst, \"[^a-zA-Z#]\", \" \")\n",
    "    return lst\n",
    "#plot data\n",
    "def anl_tweets(lst, title='Tweets Sentiment', engl=True ):\n",
    "    sents = []\n",
    "    for tw in lst:\n",
    "        try:\n",
    "            st = sentiment_analyzer_scores(tw, engl)\n",
    "            sents.append(st)\n",
    "        except:\n",
    "            sents.append(0)\n",
    "    ax = sns.distplot(\n",
    "        sents,\n",
    "        kde=False,\n",
    "        bins=3)\n",
    "    ax.set(xlabel='Negative                Neutral                 Positive',\n",
    "           ylabel='#Tweets',\n",
    "          title=\"Tweets of @\"+title)\n",
    "    return sents"
   ]
  },
  {
   "cell_type": "code",
   "execution_count": 2,
   "metadata": {
    "slideshow": {
     "slide_type": "skip"
    }
   },
   "outputs": [],
   "source": [
    "#ConsumerKeys\n",
    "APIkey=\"93dKe2wgrycvxKkV8AEn56y4n\"\n",
    "APISecret = \"IiMFI9afROHr1lLU9PfK9axgybYGppZz0wZxU6jj7u22Ipmu2d\"\n",
    "#AccesKey\n",
    "Access_token=\"153932478-gAHeUr4O7Rnf0qMmtnuIH79ikxUTULkzBZw2t6g6\"\n",
    "Access_token_secret=\"OJit5nska5YkxZxAaHu9STefp3Q68Yvef2Qx26IIwRlgm\""
   ]
  },
  {
   "cell_type": "code",
   "execution_count": 3,
   "metadata": {
    "slideshow": {
     "slide_type": "skip"
    }
   },
   "outputs": [],
   "source": [
    "#authentication\n",
    "auth = tweepy.OAuthHandler(APIkey, APISecret)\n",
    "auth.set_access_token(Access_token, Access_token_secret)\n",
    "api = tweepy.API(auth, wait_on_rate_limit=True, wait_on_rate_limit_notify=True)"
   ]
  },
  {
   "cell_type": "markdown",
   "metadata": {
    "slideshow": {
     "slide_type": "slide"
    }
   },
   "source": [
    "# Datos \n",
    "\"El concepto Dato es la materia prima, para obtener  la  estructuración o significación  de  los  mismos  en  información.\"\n",
    "\n",
    "![Datos](C:\\Users\\cbautista\\OneDrive - 33633_120216_IFX_NETWORKS_USA\\Maestria\\Semestre_1_2020\\Informatica\\Repositorios\\Data_Information_Knowledge\\Data_Information_Knowledge\\'Data.png')"
   ]
  },
  {
   "cell_type": "code",
   "execution_count": 79,
   "metadata": {
    "slideshow": {
     "slide_type": "subslide"
    }
   },
   "outputs": [
    {
     "name": "stdout",
     "output_type": "stream",
     "text": [
      "Si pierdes tu tarjeta Tu Llave personalizada llama a la línea 4824304 y restablece tu saldo. Recuerda que el valor de una nueva tarjeta es de $6.000\n",
      "\n",
      "#TransMiTeInforma https://t.co/lBqIAtKzzO\n",
      "\n",
      "@lauramcalderon7 Puedes conocer lo fácil que es la recarga web viendo este video 👇🏻 https://t.co/wAevcdlHq7\n",
      "\n",
      "Recuerda que ahora puedes recargar tu tarjeta #TuLlave desde cualquier computador o dispositivo móvil.\n",
      "Ingresa a https://t.co/oR7bQlDH3S y así podrás planear tu viaje con mucho más tiempo.\n",
      "\n",
      "#BogotáReverdece #TransMiSeTransforma https://t.co/vzgFAPLQ8h\n",
      "\n",
      "¡Atención usuarios troncal NQS Sur!\n",
      "\n",
      "Desde este sábado 5 de septiembre, el sistema contará con una nueva ruta G41 – L41 que iniciará su recorrido desde la estación de San Mateo y terminará su operación en la estación Bicentenario. \n",
      "\n",
      "Conoce más aquí ➡ https://t.co/KDRwb2iKBf https://t.co/THbB99ndAB\n",
      "\n",
      "RT @DesEconomicoBog: Somos una ciudad que sabe llegar lejos porque siempre ha estado a 2600 metros. Vamos a demostrar que la esperanza, al…\n",
      "\n"
     ]
    }
   ],
   "source": [
    "tweets = api.user_timeline('@TransMilenio', count=5, tweet_mode='extended')\n",
    "for t in tweets:\n",
    "    print(t.full_text)\n",
    "    print()"
   ]
  },
  {
   "cell_type": "markdown",
   "metadata": {
    "slideshow": {
     "slide_type": "slide"
    }
   },
   "source": [
    "### Tweets\n",
    "![Tweets](C:\\Users\\cbautista\\OneDrive - 33633_120216_IFX_NETWORKS_USA\\Maestria\\Semestre_1_2020\\Informatica\\Repositorios\\Data_Information_Knowledge\\Data_Information_Knowledge\\'tweets.png')"
   ]
  },
  {
   "cell_type": "code",
   "execution_count": 80,
   "metadata": {
    "slideshow": {
     "slide_type": "skip"
    }
   },
   "outputs": [],
   "source": [
    "user_id = 'TransMilenio'\n",
    "count=1000\n",
    "tw_Transmilenio = list_tweets(user_id, count)\n",
    "tw_Transmilenio = clean_tweets(tw_Transmilenio)"
   ]
  },
  {
   "cell_type": "markdown",
   "metadata": {
    "slideshow": {
     "slide_type": "slide"
    }
   },
   "source": [
    "# Información\n",
    "*El  mundo  informacional*  o  empírico  (saber  qué): en este nivel nos encon-tramos con la reificación de los datos, con forma y estructura, que nos permi-te identificar patrones de concordancias (categorizaciones y dependencias re-lacionales) entre estos.\n",
    "\n",
    "![Informacion](C:\\Users\\cbautista\\OneDrive - 33633_120216_IFX_NETWORKS_USA\\Maestria\\Semestre_1_2020\\Informatica\\Repositorios\\Data_Information_Knowledge\\Data_Information_Knowledge\\'Information.png')"
   ]
  },
  {
   "cell_type": "code",
   "execution_count": 78,
   "metadata": {
    "slideshow": {
     "slide_type": "subslide"
    }
   },
   "outputs": [
    {
     "name": "stdout",
     "output_type": "stream",
     "text": [
      " Pasamos a una etapa en la que podremos salir más, pero debemos seguir cuidándonos. De la ayuda de todos depende que esta…\n"
     ]
    },
    {
     "data": {
      "text/plain": [
       "0"
      ]
     },
     "execution_count": 78,
     "metadata": {},
     "output_type": "execute_result"
    }
   ],
   "source": [
    "print(tw_Transmilenio[110])\n",
    "sentiment_analyzer_scores(tw_Transmilenio[10])"
   ]
  },
  {
   "cell_type": "markdown",
   "metadata": {
    "slideshow": {
     "slide_type": "slide"
    }
   },
   "source": [
    "# Conocimiento\n",
    "\n",
    "El  mundo  del  conocimiento  (saber  cómo):  en  este  nivel  nos  encontramos  con  el  entendimiento  (estructuración  y  formación  de  creencias  verdaderas  y  justificadas) de la naturaleza, cualidades y relaciones de un modelo del mun-do,  mediante  la  identificación  de  invariantes  de  concordancias  presentes  en  los datos (instancias) embebidos en la información (forma y estructura), obte-niendo generalizaciones (experiencia) que soportan la toma de decisiones y la acción.\n",
    "\n",
    "![Conocimiento](C:\\Users\\cbautista\\OneDrive - 33633_120216_IFX_NETWORKS_USA\\Maestria\\Semestre_1_2020\\Informatica\\Repositorios\\Data_Information_Knowledge\\Data_Information_Knowledge\\'Knowledge.png')"
   ]
  },
  {
   "cell_type": "code",
   "execution_count": 62,
   "metadata": {
    "slideshow": {
     "slide_type": "slide"
    }
   },
   "outputs": [
    {
     "data": {
      "image/png": "[encoded data removed]",
      "text/plain": [
       "<Figure size 432x288 with 1 Axes>"
      ]
     },
     "metadata": {
      "needs_background": "light"
     },
     "output_type": "display_data"
    }
   ],
   "source": [
    "tw_Transmilenio = anl_tweets(tw_Transmilenio, user_id)"
   ]
  }
 ],
 "metadata": {
  "celltoolbar": "Slideshow",
  "kernelspec": {
   "display_name": "Python 3",
   "language": "python",
   "name": "python3"
  },
  "language_info": {
   "codemirror_mode": {
    "name": "ipython",
    "version": 3
   },
   "file_extension": ".py",
   "mimetype": "text/x-python",
   "name": "python",
   "nbconvert_exporter": "python",
   "pygments_lexer": "ipython3",
   "version": "3.7.1"
  }
 },
 "nbformat": 4,
 "nbformat_minor": 2
}
